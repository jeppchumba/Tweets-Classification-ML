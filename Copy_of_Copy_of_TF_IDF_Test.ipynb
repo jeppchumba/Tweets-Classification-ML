{
  "nbformat": 4,
  "nbformat_minor": 0,
  "metadata": {
    "colab": {
      "name": "Copy of Copy of TF-IDF Test.ipynb",
      "provenance": [],
      "collapsed_sections": [],
      "include_colab_link": true
    },
    "kernelspec": {
      "name": "python3",
      "display_name": "Python 3"
    },
    "language_info": {
      "name": "python"
    },
    "accelerator": "TPU"
  },
  "cells": [
    {
      "cell_type": "markdown",
      "metadata": {
        "id": "view-in-github",
        "colab_type": "text"
      },
      "source": [
        "<a href=\"https://colab.research.google.com/github/jeppchumba/Tweets-Classification-ML/blob/main/Copy_of_Copy_of_TF_IDF_Test.ipynb\" target=\"_parent\"><img src=\"https://colab.research.google.com/assets/colab-badge.svg\" alt=\"Open In Colab\"/></a>"
      ]
    },
    {
      "cell_type": "code",
      "execution_count": null,
      "metadata": {
        "id": "mFd498s-aGdB"
      },
      "outputs": [],
      "source": [
        "from sklearn.feature_extraction.text import TfidfVectorizer\n",
        "from sklearn.feature_extraction.text import TfidfTransformer\n",
        "from sklearn.feature_extraction.text import CountVectorizer\n",
        "from sklearn.neighbors import KNeighborsClassifier\n",
        "from sklearn.naive_bayes import MultinomialNB\n",
        "from sklearn.pipeline import Pipeline\n",
        "from sklearn.model_selection import cross_val_score\n",
        "from sklearn.model_selection import train_test_split\n",
        "from sklearn.model_selection import ShuffleSplit\n",
        "from sklearn.model_selection import learning_curve\n",
        "from sklearn.model_selection import cross_val_predict\n",
        "from sklearn.feature_selection import mutual_info_classif\n",
        "from sklearn.metrics import roc_curve, auc\n",
        "from sklearn.metrics import classification_report\n",
        "from sklearn.svm import SVC\n",
        "from sklearn import metrics\n",
        "\n",
        "from nltk.corpus import stopwords \n",
        "from nltk.tokenize import word_tokenize\n",
        "import string \n",
        "from nltk.stem import WordNetLemmatizer"
      ]
    },
    {
      "cell_type": "code",
      "source": [
        "import pandas as pd\n",
        "import matplotlib.pyplot as plt\n",
        "import numpy as np\n",
        "import random\n",
        "import string"
      ],
      "metadata": {
        "id": "vPMOKG3flx6M"
      },
      "execution_count": null,
      "outputs": []
    },
    {
      "cell_type": "code",
      "source": [
        "from google.colab import files\n",
        "upload=files.upload() # LOADING DATA FROM OUR LOCAL MACHINE"
      ],
      "metadata": {
        "colab": {
          "resources": {
            "http://localhost:8080/nbextensions/google.colab/files.js": {
              "data": "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",
              "ok": true,
              "headers": [
                [
                  "content-type",
                  "application/javascript"
                ]
              ],
              "status": 200,
              "status_text": "OK"
            }
          },
          "base_uri": "https://localhost:8080/",
          "height": 75
        },
        "id": "lFCF6kIal1WS",
        "outputId": "0fc0d294-f5ef-4396-bf8d-64b21461de60"
      },
      "execution_count": null,
      "outputs": [
        {
          "output_type": "display_data",
          "data": {
            "text/html": [
              "\n",
              "     <input type=\"file\" id=\"files-1123938e-6a71-444f-96ae-a9deb1e915c5\" name=\"files[]\" multiple disabled\n",
              "        style=\"border:none\" />\n",
              "     <output id=\"result-1123938e-6a71-444f-96ae-a9deb1e915c5\">\n",
              "      Upload widget is only available when the cell has been executed in the\n",
              "      current browser session. Please rerun this cell to enable.\n",
              "      </output>\n",
              "      <script src=\"/nbextensions/google.colab/files.js\"></script> "
            ],
            "text/plain": [
              "<IPython.core.display.HTML object>"
            ]
          },
          "metadata": {}
        },
        {
          "output_type": "stream",
          "name": "stdout",
          "text": [
            "Saving TrainData.csv to TrainData.csv\n"
          ]
        }
      ]
    },
    {
      "cell_type": "code",
      "source": [
        "df=pd.read_csv(\"TrainData.csv\",)\n",
        "df"
      ],
      "metadata": {
        "colab": {
          "base_uri": "https://localhost:8080/",
          "height": 423
        },
        "id": "RRzNLQaAmZOP",
        "outputId": "2c59cd71-554d-44bb-8a9e-a06483beb297"
      },
      "execution_count": null,
      "outputs": [
        {
          "output_type": "execute_result",
          "data": {
            "text/html": [
              "<div>\n",
              "<style scoped>\n",
              "    .dataframe tbody tr th:only-of-type {\n",
              "        vertical-align: middle;\n",
              "    }\n",
              "\n",
              "    .dataframe tbody tr th {\n",
              "        vertical-align: top;\n",
              "    }\n",
              "\n",
              "    .dataframe thead th {\n",
              "        text-align: right;\n",
              "    }\n",
              "</style>\n",
              "<table border=\"1\" class=\"dataframe\">\n",
              "  <thead>\n",
              "    <tr style=\"text-align: right;\">\n",
              "      <th></th>\n",
              "      <th>tweets</th>\n",
              "      <th>Sentiment</th>\n",
              "      <th>Text Label</th>\n",
              "      <th>Label</th>\n",
              "    </tr>\n",
              "  </thead>\n",
              "  <tbody>\n",
              "    <tr>\n",
              "      <th>0</th>\n",
              "      <td>enjoyed reading your article  shame i have suc...</td>\n",
              "      <td>Negative</td>\n",
              "      <td>Bullying</td>\n",
              "      <td>1</td>\n",
              "    </tr>\n",
              "    <tr>\n",
              "      <th>1</th>\n",
              "      <td>oh word back to the old photo you green ass ba...</td>\n",
              "      <td>Negative</td>\n",
              "      <td>Bullying</td>\n",
              "      <td>1</td>\n",
              "    </tr>\n",
              "    <tr>\n",
              "      <th>2</th>\n",
              "      <td>nerd</td>\n",
              "      <td>Negative</td>\n",
              "      <td>Bullying</td>\n",
              "      <td>1</td>\n",
              "    </tr>\n",
              "    <tr>\n",
              "      <th>3</th>\n",
              "      <td>ugh that truly sucks</td>\n",
              "      <td>Negative</td>\n",
              "      <td>Bullying</td>\n",
              "      <td>1</td>\n",
              "    </tr>\n",
              "    <tr>\n",
              "      <th>4</th>\n",
              "      <td>that sucks balls</td>\n",
              "      <td>Negative</td>\n",
              "      <td>Bullying</td>\n",
              "      <td>1</td>\n",
              "    </tr>\n",
              "    <tr>\n",
              "      <th>...</th>\n",
              "      <td>...</td>\n",
              "      <td>...</td>\n",
              "      <td>...</td>\n",
              "      <td>...</td>\n",
              "    </tr>\n",
              "    <tr>\n",
              "      <th>15996</th>\n",
              "      <td>that fat boy humping the pillow is not right lol</td>\n",
              "      <td>Positive</td>\n",
              "      <td>Non Bullying</td>\n",
              "      <td>0</td>\n",
              "    </tr>\n",
              "    <tr>\n",
              "      <th>15997</th>\n",
              "      <td>whats a sb  im going to hate myself for asking...</td>\n",
              "      <td>Positive</td>\n",
              "      <td>Non Bullying</td>\n",
              "      <td>0</td>\n",
              "    </tr>\n",
              "    <tr>\n",
              "      <th>15998</th>\n",
              "      <td>well that just sucks no matter how you look at...</td>\n",
              "      <td>Positive</td>\n",
              "      <td>Non Bullying</td>\n",
              "      <td>0</td>\n",
              "    </tr>\n",
              "    <tr>\n",
              "      <th>15999</th>\n",
              "      <td>damn i wanna go see ms baker  too</td>\n",
              "      <td>Positive</td>\n",
              "      <td>Non Bullying</td>\n",
              "      <td>0</td>\n",
              "    </tr>\n",
              "    <tr>\n",
              "      <th>16000</th>\n",
              "      <td>or tight ass pantssmh</td>\n",
              "      <td>Positive</td>\n",
              "      <td>Non Bullying</td>\n",
              "      <td>0</td>\n",
              "    </tr>\n",
              "  </tbody>\n",
              "</table>\n",
              "<p>16001 rows × 4 columns</p>\n",
              "</div>"
            ],
            "text/plain": [
              "                                                  tweets  ... Label\n",
              "0      enjoyed reading your article  shame i have suc...  ...     1\n",
              "1      oh word back to the old photo you green ass ba...  ...     1\n",
              "2                                                   nerd  ...     1\n",
              "3                                  ugh that truly sucks   ...     1\n",
              "4                                       that sucks balls  ...     1\n",
              "...                                                  ...  ...   ...\n",
              "15996   that fat boy humping the pillow is not right lol  ...     0\n",
              "15997  whats a sb  im going to hate myself for asking...  ...     0\n",
              "15998  well that just sucks no matter how you look at...  ...     0\n",
              "15999                  damn i wanna go see ms baker  too  ...     0\n",
              "16000                              or tight ass pantssmh  ...     0\n",
              "\n",
              "[16001 rows x 4 columns]"
            ]
          },
          "metadata": {},
          "execution_count": 6
        }
      ]
    },
    {
      "cell_type": "code",
      "source": [
        "def readcsv():\n",
        "    #df=pd.read_csv(\"TrainData.csv\",)#read labelled tweets\n",
        "    #df2=df.reindex(np.random.permutation(df.index))\n",
        "    X=df.tweets\n",
        "    y=df.Label\n",
        "    return X, y"
      ],
      "metadata": {
        "id": "s7Aj0oGpmFPa"
      },
      "execution_count": null,
      "outputs": []
    },
    {
      "cell_type": "code",
      "source": [
        "df.isnull().sum()"
      ],
      "metadata": {
        "colab": {
          "base_uri": "https://localhost:8080/"
        },
        "id": "zQmOkOm2nCdN",
        "outputId": "6ab2cbac-9a43-4f56-b9ad-84bd017bfa36"
      },
      "execution_count": null,
      "outputs": [
        {
          "output_type": "execute_result",
          "data": {
            "text/plain": [
              "tweets        0\n",
              "Sentiment     0\n",
              "Text Label    0\n",
              "Label         0\n",
              "dtype: int64"
            ]
          },
          "metadata": {},
          "execution_count": 16
        }
      ]
    },
    {
      "cell_type": "code",
      "source": [
        "df=df.dropna()"
      ],
      "metadata": {
        "id": "PA1JktJVnEig"
      },
      "execution_count": null,
      "outputs": []
    },
    {
      "cell_type": "code",
      "source": [
        "def createSVM(X,y):\n",
        "    svm_clf=Pipeline([('vect',CountVectorizer(max_df=0.7)),('tfidf',TfidfTransformer()),('svm',SVC(kernel=\"linear\",C=1))])\n",
        "    svm_clf=svm_clf.fit(X,y)\n",
        "    return svm_clf"
      ],
      "metadata": {
        "id": "IXandK9MmgBZ"
      },
      "execution_count": null,
      "outputs": []
    },
    {
      "cell_type": "code",
      "source": [
        "def createNB(X,y):\n",
        "    nb_clf=Pipeline([('vect',CountVectorizer()),('tfidf',TfidfTransformer()),('nb',MultinomialNB())])\n",
        "    nb_clf=nb_clf.fit(X,y)\n",
        "    return nb_clf"
      ],
      "metadata": {
        "id": "jPHB-UhZmkEj"
      },
      "execution_count": null,
      "outputs": []
    },
    {
      "cell_type": "code",
      "source": [
        "def drawrocSVM(y_test,y_pred):\n",
        "    fpr,tpr,threshold=roc_curve(y_test,y_pred)\n",
        "    print(\"Drawing\")\n",
        "    roc_auc=auc(fpr,tpr)\n",
        "    plt.title('Support Vector Machine Accuracy')\n",
        "    plt.plot(fpr,tpr,'b',label='SVM AUC = %0.2f'%roc_auc,color='b')\n",
        "    plt.legend(loc='lower right')\n",
        "    plt.plot([0,1],[0,1],'r--')\n",
        "    plt.xlim([-0.1,1.2])\n",
        "    plt.ylim([-0.1,1.2])\n",
        "    plt.ylabel('True Positive Rate')\n",
        "    plt.xlabel('False Positive Rate')\n",
        "    plt.show()"
      ],
      "metadata": {
        "id": "h0DteZ3hmmzE"
      },
      "execution_count": null,
      "outputs": []
    },
    {
      "cell_type": "code",
      "source": [
        "def drawrocNB(y_test,y_pred):\n",
        "    fpr,tpr,threshold=roc_curve(y_test,y_pred)\n",
        "    print(\"Drawing\")\n",
        "    roc_auc=auc(fpr,tpr)\n",
        "    plt.title('Naive Bayes Accuracy')\n",
        "    plt.plot(fpr,tpr,'b',label='NB AUC = %0.2f'%roc_auc,color='r')\n",
        "    plt.legend(loc='lower right')\n",
        "    plt.plot([0,1],[0,1],'r--')\n",
        "    plt.xlim([-0.1,1.2])\n",
        "    plt.ylim([-0.1,1.2])\n",
        "    plt.ylabel('True Positive Rate')\n",
        "    plt.xlabel('False Positive Rate')\n",
        "    plt.show()"
      ],
      "metadata": {
        "id": "EKAmTkwkmqrx"
      },
      "execution_count": null,
      "outputs": []
    },
    {
      "cell_type": "code",
      "source": [
        "def drawrocKNN(y_test,y_pred):\n",
        "    fpr,tpr,threshold=roc_curve(y_test,y_pred)\n",
        "    print(\"Drawing\")\n",
        "    roc_auc=auc(fpr,tpr)\n",
        "    plt.title('KNN Accuracy')\n",
        "    plt.plot(fpr,tpr,'b',label='KNN AUC = %0.2f'%\n",
        "    roc_auc,color='g')\n",
        "    plt.legend(loc='lower right')\n",
        "    plt.plot([0,1],[0,1],'r--')\n",
        "    plt.xlim([-0.1,1.2])\n",
        "    plt.ylim([-0.1,1.2])\n",
        "    plt.ylabel('True Positive Rate')\n",
        "    plt.xlabel('False Positive Rate')\n",
        "    plt.show()"
      ],
      "metadata": {
        "id": "QZWOOORNmuQr"
      },
      "execution_count": null,
      "outputs": []
    },
    {
      "cell_type": "code",
      "source": [
        "def experiment1(X,y): # Support Vector Machine Classifier\n",
        "    X_train,X_test,y_train,y_test=train_test_split(X,y,test_size=0.3,random_state=0)\n",
        "    svm=Pipeline([('vect',CountVectorizer()),('tfidf',TfidfTransformer()),('svm',SVC(kernel=\"linear\",C=1))])\n",
        "    svm=svm.fit(X_train,y_train)\n",
        "    ypred=svm.predict(X_test)\n",
        "    print(\"SVM metrics\")\n",
        "    print(metrics.accuracy_score(y_test,ypred))\n",
        "    print(metrics.classification_report(y_test,ypred))\n",
        "    drawrocSVM(y_test,ypred)\n",
        "def main():\n",
        "    print(\"Support Vector Machine Classifier\")\n",
        "    X,y=readcsv()\n",
        "    print(\"Evaluation\")\n",
        "    experiment1(X,y)#calling the Support Vector Machine\n",
        "    \n",
        "if __name__==\"__main__\":\n",
        "    main()"
      ],
      "metadata": {
        "colab": {
          "base_uri": "https://localhost:8080/",
          "height": 557
        },
        "id": "ti5RZjzqmxIF",
        "outputId": "ecb2f955-cbb6-44ce-d633-e31017243c81"
      },
      "execution_count": null,
      "outputs": [
        {
          "output_type": "stream",
          "name": "stdout",
          "text": [
            "Support Vector Machine Classifier\n",
            "Evaluation\n",
            "SVM metrics\n",
            "0.7938532301902571\n",
            "              precision    recall  f1-score   support\n",
            "\n",
            "           0       0.84      0.82      0.83      2962\n",
            "           1       0.72      0.75      0.73      1821\n",
            "\n",
            "    accuracy                           0.79      4783\n",
            "   macro avg       0.78      0.78      0.78      4783\n",
            "weighted avg       0.80      0.79      0.79      4783\n",
            "\n",
            "Drawing\n"
          ]
        },
        {
          "output_type": "display_data",
          "data": {
            "image/png": "[encoded data removed]",
            "text/plain": [
              "<Figure size 432x288 with 1 Axes>"
            ]
          },
          "metadata": {
            "needs_background": "light"
          }
        }
      ]
    },
    {
      "cell_type": "code",
      "source": [
        "def experiment1(X,y): # Naive Bayes Classifier\n",
        "    X_train,X_test,y_train,y_test=train_test_split(X,y,test_size=0.3,random_state=0)    \n",
        "    nb=Pipeline([('vect',CountVectorizer(ngram_range=(1,2))),('tfidf',TfidfTransformer()),('nb',MultinomialNB())])\n",
        "    nb=nb.fit(X_train,y_train)\n",
        "    yprednb=nb.predict(X_test)\n",
        "    print(\"NB Metrics\")\n",
        "    print(metrics.accuracy_score(y_test,yprednb))\n",
        "    print(metrics.classification_report(y_test,yprednb))\n",
        "    drawrocNB(y_test,yprednb)\n",
        "def main():\n",
        "    print(\"Naive Bayes Classifier\")\n",
        "    X,y=readcsv()\n",
        "    print(\"Evaluation\")\n",
        "    experiment1(X,y)#calling Naive Bayes Classifier\n",
        "    \n",
        "if __name__==\"__main__\":\n",
        "    main()"
      ],
      "metadata": {
        "colab": {
          "base_uri": "https://localhost:8080/",
          "height": 557
        },
        "id": "67lHZfaXnT-i",
        "outputId": "111a40c5-0c11-4d7d-d06a-f93b62e02cce"
      },
      "execution_count": null,
      "outputs": [
        {
          "output_type": "stream",
          "name": "stdout",
          "text": [
            "Naive Bayes Classifier\n",
            "Evaluation\n",
            "NB Metrics\n",
            "0.8218691197992891\n",
            "              precision    recall  f1-score   support\n",
            "\n",
            "           0       0.80      0.96      0.87      2962\n",
            "           1       0.90      0.60      0.72      1821\n",
            "\n",
            "    accuracy                           0.82      4783\n",
            "   macro avg       0.85      0.78      0.79      4783\n",
            "weighted avg       0.83      0.82      0.81      4783\n",
            "\n",
            "Drawing\n"
          ]
        },
        {
          "output_type": "display_data",
          "data": {
            "image/png": "[encoded data removed]",
            "text/plain": [
              "<Figure size 432x288 with 1 Axes>"
            ]
          },
          "metadata": {
            "needs_background": "light"
          }
        }
      ]
    },
    {
      "cell_type": "code",
      "source": [
        "def experiment1(X,y): # KNN Classifier\n",
        "    X_train,X_test,y_train,y_test=train_test_split(X,y,test_size=0.3,random_state=0)\n",
        "    knn=Pipeline([('vect',CountVectorizer()),('tfidf',TfidfTransformer()),('knn',KNeighborsClassifier())])\n",
        "    knn=knn.fit(X_train,y_train)\n",
        "    ypredknn=knn.predict(X_test)\n",
        "    print(\"KNN evaluation\")\n",
        "    print(metrics.accuracy_score(y_test,ypredknn))\n",
        "    print(metrics.classification_report(y_test,ypredknn))\n",
        "    drawrocKNN(y_test,ypredknn)\n",
        "def main():\n",
        "    print(\"KNN Classifier\")\n",
        "    X,y=readcsv()\n",
        "    print(\"Evaluation\")\n",
        "    experiment1(X,y)#calling KNN Classifier\n",
        "    \n",
        "if __name__==\"__main__\":\n",
        "    main()"
      ],
      "metadata": {
        "colab": {
          "base_uri": "https://localhost:8080/",
          "height": 557
        },
        "id": "g4LtI1k4nu1K",
        "outputId": "9230bd48-36d3-4f9c-ed7f-922dbb3ccf6f"
      },
      "execution_count": null,
      "outputs": [
        {
          "output_type": "stream",
          "name": "stdout",
          "text": [
            "KNN Classifier\n",
            "Evaluation\n",
            "KNN evaluation\n",
            "0.7037424210746394\n",
            "              precision    recall  f1-score   support\n",
            "\n",
            "           0       0.69      0.93      0.80      2962\n",
            "           1       0.75      0.33      0.46      1821\n",
            "\n",
            "    accuracy                           0.70      4783\n",
            "   macro avg       0.72      0.63      0.63      4783\n",
            "weighted avg       0.72      0.70      0.67      4783\n",
            "\n",
            "Drawing\n"
          ]
        },
        {
          "output_type": "display_data",
          "data": {
            "image/png": "[encoded data removed]",
            "text/plain": [
              "<Figure size 432x288 with 1 Axes>"
            ]
          },
          "metadata": {
            "needs_background": "light"
          }
        }
      ]
    },
    {
      "cell_type": "markdown",
      "source": [
        "**SVM MODEL (UNIGRAM WITH TF-IDF)**"
      ],
      "metadata": {
        "id": "YRb0hNHmooPg"
      }
    },
    {
      "cell_type": "code",
      "source": [
        "def experiment2(X,y): # Different features with Support Vector Machine\n",
        "    X_train,X_test,y_train,y_test=train_test_split(X,y,test_size=0.3)\n",
        "    svm=createSVM(X_train,y_train)\n",
        "    y_pred=(svm.predict(X_test))\n",
        "    print(\"Original Accuracy: Unigram with tf-idf\")\n",
        "    print(metrics.confusion_matrix(y_test,y_pred))\n",
        "    print(metrics.accuracy_score(y_test,y_pred))\n",
        "    print(metrics.classification_report(y_test,y_pred))\n",
        "    stop=[\"haha\",\"lol\",\"lmao\"]\n",
        "def main():\n",
        "    print(\"Support Vector Machine Classifier\")\n",
        "    X,y=readcsv()\n",
        "    print(\"Evaluation\")\n",
        "    experiment2(X,y)#calling Support Vector Machine Classifier\n",
        "    \n",
        "if __name__==\"__main__\":\n",
        "    main()"
      ],
      "metadata": {
        "colab": {
          "base_uri": "https://localhost:8080/"
        },
        "id": "pPoR_RA1n1rl",
        "outputId": "f9486893-ee2f-4f86-9789-5a369f67ccd1"
      },
      "execution_count": null,
      "outputs": [
        {
          "output_type": "stream",
          "name": "stdout",
          "text": [
            "Support Vector Machine Classifier\n",
            "Evaluation\n",
            "Original Accuracy: Unigram with tf-idf\n",
            "[[2406  485]\n",
            " [ 584 1308]]\n",
            "0.7765001045369015\n",
            "              precision    recall  f1-score   support\n",
            "\n",
            "           0       0.80      0.83      0.82      2891\n",
            "           1       0.73      0.69      0.71      1892\n",
            "\n",
            "    accuracy                           0.78      4783\n",
            "   macro avg       0.77      0.76      0.76      4783\n",
            "weighted avg       0.77      0.78      0.78      4783\n",
            "\n"
          ]
        }
      ]
    },
    {
      "cell_type": "markdown",
      "source": [
        "SVM MODEL (UNIGRAM)"
      ],
      "metadata": {
        "id": "QjbOi-c8pGUm"
      }
    },
    {
      "cell_type": "code",
      "source": [
        "def experiment2(X,y): # Different features with Support Vector Machine\n",
        "    X_train,X_test,y_train,y_test=train_test_split(X,y,test_size=0.3)\n",
        "    svm2=Pipeline([('vect',CountVectorizer()),('svm',SVC(kernel=\"linear\",C=1))])\n",
        "    svm2=svm2.fit(X_train,y_train)\n",
        "    ypred2=svm2.predict(X_test)\n",
        "    print(\"Just unigram counts Accuracy\")\n",
        "    print(metrics.accuracy_score(y_test,ypred2))\n",
        "    print(metrics.classification_report(y_test,ypred2))\n",
        "def main():\n",
        "    print(\"Support Vector Machine Classifier\")\n",
        "    X,y=readcsv()\n",
        "    print(\"Evaluation\")\n",
        "    experiment2(X,y)#calling Support Vector Machine Classifier\n",
        "    \n",
        "if __name__==\"__main__\":\n",
        "    main()"
      ],
      "metadata": {
        "colab": {
          "base_uri": "https://localhost:8080/"
        },
        "id": "zPUtHfRDpNCP",
        "outputId": "0218dbd5-a632-46b5-e0b1-8fd561fffba0"
      },
      "execution_count": null,
      "outputs": [
        {
          "output_type": "stream",
          "name": "stdout",
          "text": [
            "Support Vector Machine Classifier\n",
            "Evaluation\n",
            "Just unigram counts Accuracy\n",
            "0.8291867029061258\n",
            "              precision    recall  f1-score   support\n",
            "\n",
            "           0       0.90      0.81      0.85      2911\n",
            "           1       0.75      0.85      0.80      1872\n",
            "\n",
            "    accuracy                           0.83      4783\n",
            "   macro avg       0.82      0.83      0.82      4783\n",
            "weighted avg       0.84      0.83      0.83      4783\n",
            "\n"
          ]
        }
      ]
    },
    {
      "cell_type": "markdown",
      "source": [
        "SVM MODEL (BIGRAM)"
      ],
      "metadata": {
        "id": "GsiwxFbmpeEH"
      }
    },
    {
      "cell_type": "code",
      "source": [
        "def experiment2(X,y): # Different features with Support Vector Machine\n",
        "    X_train,X_test,y_train,y_test=train_test_split(X,y,test_size=0.3)\n",
        "    svm3=Pipeline([('vect',CountVectorizer(ngram_range=(1,2))),('svm',SVC(kernel=\"linear\",C=1))])\n",
        "    svm3=svm3.fit(X_train,y_train)\n",
        "    ypred3=svm3.predict(X_test)\n",
        "    print(\"Just bigram counts Accuracy\")\n",
        "    print(metrics.accuracy_score(y_test,ypred3))\n",
        "    print(metrics.classification_report(y_test,ypred3))\n",
        "def main():\n",
        "    print(\"Support Vector Machine Classifier\")\n",
        "    X,y=readcsv()\n",
        "    print(\"Evaluation\")\n",
        "    experiment2(X,y)#calling Support Vector Machine Classifier\n",
        "    \n",
        "if __name__==\"__main__\":\n",
        "    main()"
      ],
      "metadata": {
        "colab": {
          "base_uri": "https://localhost:8080/"
        },
        "id": "kYhmnB4iphgb",
        "outputId": "848768cb-bdca-4f2b-d974-505883688d3e"
      },
      "execution_count": null,
      "outputs": [
        {
          "output_type": "stream",
          "name": "stdout",
          "text": [
            "Support Vector Machine Classifier\n",
            "Evaluation\n",
            "Just bigram counts Accuracy\n",
            "0.8532301902571607\n",
            "              precision    recall  f1-score   support\n",
            "\n",
            "           0       0.91      0.85      0.88      2914\n",
            "           1       0.78      0.86      0.82      1869\n",
            "\n",
            "    accuracy                           0.85      4783\n",
            "   macro avg       0.84      0.85      0.85      4783\n",
            "weighted avg       0.86      0.85      0.85      4783\n",
            "\n"
          ]
        }
      ]
    },
    {
      "cell_type": "markdown",
      "source": [
        "SVM MODEL (TRIGRAM)"
      ],
      "metadata": {
        "id": "x-ZKaCi3pvKv"
      }
    },
    {
      "cell_type": "code",
      "source": [
        "def experiment2(X,y): # Different features with Support Vector Machine\n",
        "    X_train,X_test,y_train,y_test=train_test_split(X,y,test_size=0.3)\n",
        "    svm4=Pipeline([('vect',CountVectorizer(ngram_range=(1,3))),('svm',SVC(kernel=\"linear\",C=1))])\n",
        "    svm4=svm4.fit(X_train,y_train)\n",
        "    ypred4=svm4.predict(X_test)\n",
        "    print(\"Trigram counts Accuracy\")\n",
        "    print(metrics.accuracy_score(y_test,ypred4))\n",
        "    print(metrics.classification_report(y_test,ypred4))\n",
        "def main():\n",
        "    print(\"Support Vector Machine Classifier\")\n",
        "    X,y=readcsv()\n",
        "    print(\"Evaluation\")\n",
        "    experiment2(X,y)#calling Support Vector Machine Classifier\n",
        "    \n",
        "if __name__==\"__main__\":\n",
        "    main()"
      ],
      "metadata": {
        "colab": {
          "base_uri": "https://localhost:8080/"
        },
        "id": "XxeoxiT-py9H",
        "outputId": "ee0eb0f3-6f13-46a0-bccc-844ea7df6984"
      },
      "execution_count": null,
      "outputs": [
        {
          "output_type": "stream",
          "name": "stdout",
          "text": [
            "Support Vector Machine Classifier\n",
            "Evaluation\n",
            "Trigram counts Accuracy\n",
            "0.8500940832113736\n",
            "              precision    recall  f1-score   support\n",
            "\n",
            "           0       0.91      0.84      0.87      2968\n",
            "           1       0.77      0.87      0.82      1815\n",
            "\n",
            "    accuracy                           0.85      4783\n",
            "   macro avg       0.84      0.85      0.84      4783\n",
            "weighted avg       0.86      0.85      0.85      4783\n",
            "\n"
          ]
        }
      ]
    },
    {
      "cell_type": "markdown",
      "source": [
        "SVM MODEL (BIGRAM WITH TF-IDF)"
      ],
      "metadata": {
        "id": "b-FfAntjqGja"
      }
    },
    {
      "cell_type": "code",
      "source": [
        "def experiment2(X,y): # Different features with Support Vector Machine\n",
        "    X_train,X_test,y_train,y_test=train_test_split(X,y,test_size=0.3)\n",
        "    svm5=Pipeline([('vect',CountVectorizer(ngram_range=(1,2))),('tfidf',TfidfTransformer()),('svm',SVC(kernel=\"linear\",C=1))])\n",
        "    svm5=svm5.fit(X_train,y_train)\n",
        "    ypred5=svm5.predict(X_test)\n",
        "    print(\"Bigram with tfidf Accuracy\")\n",
        "    print(metrics.accuracy_score(y_test,ypred5))\n",
        "    print(metrics.classification_report(y_test,ypred5))\n",
        "def main():\n",
        "    print(\"Support Vector Machine Classifier\")\n",
        "    X,y=readcsv()\n",
        "    print(\"Evaluation\")\n",
        "    experiment2(X,y)#calling Support Vector Machine Classifier\n",
        "    \n",
        "if __name__==\"__main__\":\n",
        "    main()"
      ],
      "metadata": {
        "colab": {
          "base_uri": "https://localhost:8080/"
        },
        "id": "-9O5HlhQqL3E",
        "outputId": "3b966fde-4893-47db-fe1b-3f98e3341666"
      },
      "execution_count": null,
      "outputs": [
        {
          "output_type": "stream",
          "name": "stdout",
          "text": [
            "Support Vector Machine Classifier\n",
            "Evaluation\n",
            "Bigram with tfidf Accuracy\n",
            "0.8181057913443446\n",
            "              precision    recall  f1-score   support\n",
            "\n",
            "           0       0.89      0.81      0.84      2933\n",
            "           1       0.73      0.84      0.78      1850\n",
            "\n",
            "    accuracy                           0.82      4783\n",
            "   macro avg       0.81      0.82      0.81      4783\n",
            "weighted avg       0.83      0.82      0.82      4783\n",
            "\n"
          ]
        }
      ]
    },
    {
      "cell_type": "markdown",
      "source": [
        "SVM MODEL (TRIGRAM WITH TF-IDF)"
      ],
      "metadata": {
        "id": "eLjDToa8qif2"
      }
    },
    {
      "cell_type": "code",
      "source": [
        "def experiment2(X,y): # Different features with Support Vector Machine\n",
        "    X_train,X_test,y_train,y_test=train_test_split(X,y,test_size=0.3)\n",
        "    svm6=Pipeline([('vect',CountVectorizer(ngram_range=(1,3))),('tfidf',TfidfTransformer()),('svm',SVC(kernel=\"linear\",C=1))])\n",
        "    svm6=svm6.fit(X_train,y_train)\n",
        "    ypred6=svm6.predict(X_test)\n",
        "    print(\"Trigram with tfidf Accuracy\")\n",
        "    print(metrics.accuracy_score(y_test,ypred6))\n",
        "    print(metrics.classification_report(y_test,ypred6))\n",
        "def main():\n",
        "    print(\"Support Vector Machine Classifier\")\n",
        "    X,y=readcsv()\n",
        "    print(\"Evaluation\")\n",
        "    experiment2(X,y)#calling Support Vector Machine Classifier\n",
        "    \n",
        "if __name__==\"__main__\":\n",
        "    main()"
      ],
      "metadata": {
        "colab": {
          "base_uri": "https://localhost:8080/"
        },
        "id": "60K3m2IPqnoP",
        "outputId": "d4ec3a04-af30-4aa0-860a-5f831266d05c"
      },
      "execution_count": null,
      "outputs": [
        {
          "output_type": "stream",
          "name": "stdout",
          "text": [
            "Support Vector Machine Classifier\n",
            "Evaluation\n",
            "Trigram with tfidf Accuracy\n",
            "0.8408948358770646\n",
            "              precision    recall  f1-score   support\n",
            "\n",
            "           0       0.91      0.81      0.86      2900\n",
            "           1       0.76      0.88      0.81      1883\n",
            "\n",
            "    accuracy                           0.84      4783\n",
            "   macro avg       0.83      0.85      0.84      4783\n",
            "weighted avg       0.85      0.84      0.84      4783\n",
            "\n"
          ]
        }
      ]
    },
    {
      "cell_type": "markdown",
      "source": [
        "NAIVE BAYES (UNIGRAM WITH TF-IDF)"
      ],
      "metadata": {
        "id": "f039WE4QrMBA"
      }
    },
    {
      "cell_type": "code",
      "source": [
        "def experiment3(X,y): #  Different features Naive Bayes\n",
        "    X_train,X_test,y_train,y_test=train_test_split(X,y,test_size=0.3)\n",
        "    nb=createNB(X_train,y_train)\n",
        "    y_pred=nb.predict(X_test)\n",
        "    print(\"Original Accuracy - Unigram with tfidf\")\n",
        "    print(metrics.classification_report(y_test,y_pred))\n",
        "    print(metrics.accuracy_score(y_test,y_pred))\n",
        "def main():\n",
        "    print(\"Naive Bayes Classifier\")\n",
        "    X,y=readcsv()\n",
        "    print(\"Evaluation\")\n",
        "    experiment3(X,y)#calling Naive Bayes Classifier\n",
        "    \n",
        "if __name__==\"__main__\":\n",
        "    main()"
      ],
      "metadata": {
        "colab": {
          "base_uri": "https://localhost:8080/"
        },
        "id": "BB1YK4oVrRU0",
        "outputId": "f84d2395-1b3f-413d-acd9-a97bbf709114"
      },
      "execution_count": null,
      "outputs": [
        {
          "output_type": "stream",
          "name": "stdout",
          "text": [
            "Naive Bayes Classifier\n",
            "Evaluation\n",
            "Original Accuracy - Unigram with tfidf\n",
            "              precision    recall  f1-score   support\n",
            "\n",
            "           0       0.71      0.95      0.81      2888\n",
            "           1       0.84      0.42      0.56      1895\n",
            "\n",
            "    accuracy                           0.74      4783\n",
            "   macro avg       0.77      0.68      0.69      4783\n",
            "weighted avg       0.76      0.74      0.71      4783\n",
            "\n",
            "0.738657746184403\n"
          ]
        }
      ]
    },
    {
      "cell_type": "markdown",
      "source": [
        "NAIVE BAYES (UNIGRAM)"
      ],
      "metadata": {
        "id": "pjDxlFWmrVIH"
      }
    },
    {
      "cell_type": "code",
      "source": [
        "def experiment3(X,y): # Different Feature set with Naive Bayes\n",
        "    X_train,X_test,y_train,y_test=train_test_split(X,y,test_size=0.3)\n",
        "    nb2=Pipeline([('vect',CountVectorizer()),('nb',MultinomialNB())])\n",
        "    nb2=nb2.fit(X_train,y_train)\n",
        "    ypred2=nb2.predict(X_test)\n",
        "    print(\"Just Unigrams counts Accuracy\")\n",
        "    print(metrics.classification_report(y_test,ypred2))\n",
        "    print(metrics.accuracy_score(y_test,ypred2))\n",
        "def main():\n",
        "    print(\"Naive Bayes Classifier\")\n",
        "    X,y=readcsv()\n",
        "    print(\"Evaluation\")\n",
        "    experiment3(X,y)#calling Naive Bayes Classifier\n",
        "    \n",
        "if __name__==\"__main__\":\n",
        "    main()"
      ],
      "metadata": {
        "colab": {
          "base_uri": "https://localhost:8080/"
        },
        "id": "lyIV1PPorbj7",
        "outputId": "bbf66c96-ed6b-4d1d-8050-ebd6a93f2e03"
      },
      "execution_count": null,
      "outputs": [
        {
          "output_type": "stream",
          "name": "stdout",
          "text": [
            "Naive Bayes Classifier\n",
            "Evaluation\n",
            "Just Unigrams counts Accuracy\n",
            "              precision    recall  f1-score   support\n",
            "\n",
            "           0       0.81      0.85      0.83      2913\n",
            "           1       0.74      0.70      0.72      1870\n",
            "\n",
            "    accuracy                           0.79      4783\n",
            "   macro avg       0.78      0.77      0.77      4783\n",
            "weighted avg       0.79      0.79      0.79      4783\n",
            "\n",
            "0.7877900899017353\n"
          ]
        }
      ]
    },
    {
      "cell_type": "markdown",
      "source": [
        "NAIVE BAYES (BIGRAM)"
      ],
      "metadata": {
        "id": "QG4DwHIMrhLl"
      }
    },
    {
      "cell_type": "code",
      "source": [
        "def experiment3(X,y): # Different Feature set with Naive Bayes\n",
        "    X_train,X_test,y_train,y_test=train_test_split(X,y,test_size=0.3)\n",
        "    nb3=Pipeline([('vect',CountVectorizer(ngram_range=(1,2))),('nb',MultinomialNB())])\n",
        "    nb3=nb3.fit(X_train,y_train)\n",
        "    ypred3=nb3.predict(X_test)\n",
        "    print(\"Bigram counts Accuracy\")\n",
        "    print(metrics.accuracy_score(y_test,ypred3))\n",
        "    print(metrics.classification_report(y_test,ypred3))\n",
        "def main():\n",
        "    print(\"Naive Bayes Classifier\")\n",
        "    X,y=readcsv()\n",
        "    print(\"Evaluation\")\n",
        "    experiment3(X,y)#calling Naive Bayes Classifier\n",
        "    \n",
        "if __name__==\"__main__\":\n",
        "    main()"
      ],
      "metadata": {
        "colab": {
          "base_uri": "https://localhost:8080/"
        },
        "id": "AqjWkorWrj4l",
        "outputId": "7b46afe1-a2b1-4cff-a8ae-d55751ff67ff"
      },
      "execution_count": null,
      "outputs": [
        {
          "output_type": "stream",
          "name": "stdout",
          "text": [
            "Naive Bayes Classifier\n",
            "Evaluation\n",
            "Bigram counts Accuracy\n",
            "0.8446581643320092\n",
            "              precision    recall  f1-score   support\n",
            "\n",
            "           0       0.87      0.87      0.87      2893\n",
            "           1       0.80      0.81      0.80      1890\n",
            "\n",
            "    accuracy                           0.84      4783\n",
            "   macro avg       0.84      0.84      0.84      4783\n",
            "weighted avg       0.84      0.84      0.84      4783\n",
            "\n"
          ]
        }
      ]
    },
    {
      "cell_type": "markdown",
      "source": [
        "NAIVE BAYES (TRIGRAM)"
      ],
      "metadata": {
        "id": "BNaZ1LbDrocc"
      }
    },
    {
      "cell_type": "code",
      "source": [
        "def experiment3(X,y): # Different Feature set with Naive Bayes\n",
        "    X_train,X_test,y_train,y_test=train_test_split(X,y,test_size=0.3)\n",
        "    nb4=Pipeline([('vect',CountVectorizer(ngram_range=(1,3))),('nb',MultinomialNB())])\n",
        "    nb4=nb4.fit(X_train,y_train)\n",
        "    ypred4=nb4.predict(X_test)\n",
        "    print(\"Trigram counts Accuracy\")\n",
        "    print(metrics.accuracy_score(y_test,ypred4))\n",
        "    print(metrics.classification_report(y_test,ypred4))\n",
        "def main():\n",
        "    print(\"Naive Bayes Classifier\")\n",
        "    X,y=readcsv()\n",
        "    print(\"Evaluation\")\n",
        "    experiment3(X,y)#calling Naive Bayes Classifier\n",
        "    \n",
        "if __name__==\"__main__\":\n",
        "    main()"
      ],
      "metadata": {
        "colab": {
          "base_uri": "https://localhost:8080/"
        },
        "id": "CJtsjOSBrrkI",
        "outputId": "b401ab9e-195b-4ee8-eecb-92dd27a31a13"
      },
      "execution_count": null,
      "outputs": [
        {
          "output_type": "stream",
          "name": "stdout",
          "text": [
            "Naive Bayes Classifier\n",
            "Evaluation\n",
            "Trigram counts Accuracy\n",
            "0.8540664854693707\n",
            "              precision    recall  f1-score   support\n",
            "\n",
            "           0       0.88      0.88      0.88      2935\n",
            "           1       0.81      0.82      0.81      1848\n",
            "\n",
            "    accuracy                           0.85      4783\n",
            "   macro avg       0.85      0.85      0.85      4783\n",
            "weighted avg       0.85      0.85      0.85      4783\n",
            "\n"
          ]
        }
      ]
    },
    {
      "cell_type": "markdown",
      "source": [
        "NAIVE BAYES (BIGRAM WITH TF-IDF)"
      ],
      "metadata": {
        "id": "oRtI74Osr5EZ"
      }
    },
    {
      "cell_type": "code",
      "source": [
        "def experiment3(X,y): # Different Feature set with Naive Bayes\n",
        "    X_train,X_test,y_train,y_test=train_test_split(X,y,test_size=0.3)\n",
        "    nb5=Pipeline([('vect',CountVectorizer(ngram_range=(1,2))),('tfidf',TfidfTransformer()),('nb',MultinomialNB())])\n",
        "    nb5=nb5.fit(X_train,y_train)\n",
        "    ypred5=nb5.predict(X_test)\n",
        "    #drawrocSVM(y_test,ypred5)\n",
        "    print(\"Bigram with tfidf Accuracy\")\n",
        "    print(metrics.accuracy_score(y_test,ypred5))\n",
        "    print(metrics.classification_report(y_test,ypred5))\n",
        "def main():\n",
        "    print(\"Naive Bayes Classifier\")\n",
        "    X,y=readcsv()\n",
        "    print(\"Evaluation\")\n",
        "    experiment3(X,y)#calling Naive Bayes Classifier\n",
        "    \n",
        "if __name__==\"__main__\":\n",
        "    main() "
      ],
      "metadata": {
        "colab": {
          "base_uri": "https://localhost:8080/"
        },
        "id": "vK4anMJvr9-S",
        "outputId": "4c9ebd93-7eb9-4608-bd5e-a2fee82784c0"
      },
      "execution_count": null,
      "outputs": [
        {
          "output_type": "stream",
          "name": "stdout",
          "text": [
            "Naive Bayes Classifier\n",
            "Evaluation\n",
            "Bigram with tfidf Accuracy\n",
            "0.8264687434664436\n",
            "              precision    recall  f1-score   support\n",
            "\n",
            "           0       0.79      0.97      0.87      2860\n",
            "           1       0.93      0.61      0.74      1923\n",
            "\n",
            "    accuracy                           0.83      4783\n",
            "   macro avg       0.86      0.79      0.80      4783\n",
            "weighted avg       0.85      0.83      0.82      4783\n",
            "\n"
          ]
        }
      ]
    },
    {
      "cell_type": "markdown",
      "source": [
        "NAIVE BAYES (TRIGRAM WITH TF-IDF)"
      ],
      "metadata": {
        "id": "MOoV1C4TsAXc"
      }
    },
    {
      "cell_type": "code",
      "source": [
        "def experiment3(X,y): # Different Feature set with Naive Bayes\n",
        "    X_train,X_test,y_train,y_test=train_test_split(X,y,test_size=0.3)\n",
        "    nb6=Pipeline([('vect',CountVectorizer(ngram_range=(1,3))),('tfidf',TfidfTransformer()),('nb',MultinomialNB())])\n",
        "    nb6=nb6.fit(X_train,y_train)\n",
        "    ypred6=nb6.predict(X_test)\n",
        "    #drawrocSVM(y_test,ypred5)\n",
        "    print(\"Trigram with tfidf Accuracy\")\n",
        "    print(metrics.classification_report(y_test,ypred6))\n",
        "    print(metrics.accuracy_score(y_test,ypred6))\n",
        "def main():\n",
        "    print(\"Naive Bayes Classifier\")\n",
        "    X,y=readcsv()\n",
        "    print(\"Evaluation\")\n",
        "    experiment3(X,y)#calling Naive Bayes Classifier\n",
        "    \n",
        "if __name__==\"__main__\":\n",
        "    main()"
      ],
      "metadata": {
        "colab": {
          "base_uri": "https://localhost:8080/"
        },
        "id": "bLWg23jHsHue",
        "outputId": "4a9c3a5d-e8bd-43b9-f79a-4f2d33eb3847"
      },
      "execution_count": null,
      "outputs": [
        {
          "output_type": "stream",
          "name": "stdout",
          "text": [
            "Naive Bayes Classifier\n",
            "Evaluation\n",
            "Trigram with tfidf Accuracy\n",
            "              precision    recall  f1-score   support\n",
            "\n",
            "           0       0.86      0.97      0.91      2951\n",
            "           1       0.94      0.74      0.83      1832\n",
            "\n",
            "    accuracy                           0.88      4783\n",
            "   macro avg       0.90      0.85      0.87      4783\n",
            "weighted avg       0.89      0.88      0.88      4783\n",
            "\n",
            "0.8820823750784027\n"
          ]
        }
      ]
    },
    {
      "cell_type": "markdown",
      "source": [
        "KNN (UNIGRAM WITH TF-IDF)"
      ],
      "metadata": {
        "id": "341viCePsLff"
      }
    },
    {
      "cell_type": "code",
      "source": [
        "def experiment4(X,y): # Different feature sets with KNN\n",
        "    X_train,X_test,y_train,y_test=train_test_split(X,y,test_size=0.3)\n",
        "    knn=Pipeline([('vect',CountVectorizer()),('tfidf',TfidfTransformer()),('knn',KNeighborsClassifier())])\n",
        "    knn=knn.fit(X_train,y_train)\n",
        "    ypredknn=knn.predict(X_test)\n",
        "    print(\"Original Accuracy: Unigram with tfidf\")\n",
        "    print(metrics.accuracy_score(y_test,ypredknn))\n",
        "    print(metrics.classification_report(y_test,ypredknn))\n",
        "def main():\n",
        "    print(\"KNN Classifier\")\n",
        "    X,y=readcsv()\n",
        "    print(\"Evaluation\")\n",
        "    experiment4(X,y)#calling KNN Classifier\n",
        "    \n",
        "if __name__==\"__main__\":\n",
        "    main()"
      ],
      "metadata": {
        "colab": {
          "base_uri": "https://localhost:8080/"
        },
        "id": "dNi2Te6VsRL5",
        "outputId": "d82c7665-e026-4667-da6c-d6eda8ce1715"
      },
      "execution_count": null,
      "outputs": [
        {
          "output_type": "stream",
          "name": "stdout",
          "text": [
            "KNN Classifier\n",
            "Evaluation\n",
            "Original Accuracy: Unigram with tfidf\n",
            "0.7047877900899018\n",
            "              precision    recall  f1-score   support\n",
            "\n",
            "           0       0.69      0.94      0.80      2937\n",
            "           1       0.77      0.33      0.47      1846\n",
            "\n",
            "    accuracy                           0.70      4783\n",
            "   macro avg       0.73      0.64      0.63      4783\n",
            "weighted avg       0.72      0.70      0.67      4783\n",
            "\n"
          ]
        }
      ]
    },
    {
      "cell_type": "markdown",
      "source": [
        "KNN (UNIGRAM)"
      ],
      "metadata": {
        "id": "fAaQ9eqOsTjM"
      }
    },
    {
      "cell_type": "code",
      "source": [
        "def experiment4(X,y): # Different feature sets with KNN\n",
        "    X_train,X_test,y_train,y_test=train_test_split(X,y,test_size=0.3)\n",
        "    knn=Pipeline([('vect',CountVectorizer()),('knn',KNeighborsClassifier())])\n",
        "    knn=knn.fit(X_train,y_train)\n",
        "    ypredknn=knn.predict(X_test)\n",
        "    print(\"Unigram counts Accuracy\")\n",
        "    print(metrics.accuracy_score(y_test,ypredknn))\n",
        "    print(metrics.classification_report(y_test,ypredknn))\n",
        "def main():\n",
        "    print(\"KNN Classifier\")\n",
        "    X,y=readcsv()\n",
        "    print(\"Evaluation\")\n",
        "    experiment4(X,y)#calling KNN Classifier\n",
        "    \n",
        "if __name__==\"__main__\":\n",
        "    main()\n"
      ],
      "metadata": {
        "colab": {
          "base_uri": "https://localhost:8080/"
        },
        "id": "UcYFMyRWsYFk",
        "outputId": "d0f5d999-aeed-45c5-950f-c1e70648f0bc"
      },
      "execution_count": null,
      "outputs": [
        {
          "output_type": "stream",
          "name": "stdout",
          "text": [
            "KNN Classifier\n",
            "Evaluation\n",
            "Unigram counts Accuracy\n",
            "0.6870165168304412\n",
            "              precision    recall  f1-score   support\n",
            "\n",
            "           0       0.77      0.70      0.73      2902\n",
            "           1       0.59      0.67      0.63      1881\n",
            "\n",
            "    accuracy                           0.69      4783\n",
            "   macro avg       0.68      0.68      0.68      4783\n",
            "weighted avg       0.70      0.69      0.69      4783\n",
            "\n"
          ]
        }
      ]
    },
    {
      "cell_type": "markdown",
      "source": [
        "KNN (BIGRAM)"
      ],
      "metadata": {
        "id": "tfSner5Gsa8I"
      }
    },
    {
      "cell_type": "code",
      "source": [
        "def experiment4(X,y): # Different feature sets with KNN\n",
        "    X_train,X_test,y_train,y_test=train_test_split(X,y,test_size=0.3)\n",
        "    knn=Pipeline([('vect',CountVectorizer(ngram_range=(1,2))),('knn',KNeighborsClassifier())])\n",
        "    knn=knn.fit(X_train,y_train)\n",
        "    ypredknn=knn.predict(X_test)\n",
        "    print(\"Bigram counts Accuracy\")\n",
        "    print(metrics.accuracy_score(y_test,ypredknn))\n",
        "    print(metrics.classification_report(y_test,ypredknn))\n",
        "def main():\n",
        "    print(\"KNN Classifier\")\n",
        "    X,y=readcsv()\n",
        "    print(\"Evaluation\")\n",
        "    experiment4(X,y)#calling KNN Classifier\n",
        "    \n",
        "if __name__==\"__main__\":\n",
        "    main() "
      ],
      "metadata": {
        "colab": {
          "base_uri": "https://localhost:8080/"
        },
        "id": "nfXf1m8zsfnK",
        "outputId": "7e2248f7-aa44-4e4e-840b-2b294b7360fa"
      },
      "execution_count": null,
      "outputs": [
        {
          "output_type": "stream",
          "name": "stdout",
          "text": [
            "KNN Classifier\n",
            "Evaluation\n",
            "Bigram counts Accuracy\n",
            "0.6801170813297094\n",
            "              precision    recall  f1-score   support\n",
            "\n",
            "           0       0.77      0.68      0.72      2934\n",
            "           1       0.57      0.69      0.62      1849\n",
            "\n",
            "    accuracy                           0.68      4783\n",
            "   macro avg       0.67      0.68      0.67      4783\n",
            "weighted avg       0.70      0.68      0.68      4783\n",
            "\n"
          ]
        }
      ]
    },
    {
      "cell_type": "markdown",
      "source": [
        "KNN (BIGRAM WITH TF-IDF)"
      ],
      "metadata": {
        "id": "ONAouHRSsr25"
      }
    },
    {
      "cell_type": "code",
      "source": [
        "def experiment4(X,y): # Different feature sets with KNN\n",
        "    X_train,X_test,y_train,y_test=train_test_split(X,y,test_size=0.3)\n",
        "    knn=Pipeline([('vect',CountVectorizer(ngram_range=(1,2))),('tfidf',TfidfTransformer()),('knn',KNeighborsClassifier())])\n",
        "    knn=knn.fit(X_train,y_train)\n",
        "    ypredknn=knn.predict(X_test)\n",
        "    print(\"Bigram with tfidf Accuracy\")\n",
        "    print(metrics.accuracy_score(y_test,ypredknn))\n",
        "    print(metrics.classification_report(y_test,ypredknn))\n",
        "def main():\n",
        "    print(\"KNN Classifier\")\n",
        "    X,y=readcsv()\n",
        "    print(\"Evaluation\")\n",
        "    experiment4(X,y)#calling KNN Classifier\n",
        "    \n",
        "if __name__==\"__main__\":\n",
        "    main()\n"
      ],
      "metadata": {
        "colab": {
          "base_uri": "https://localhost:8080/"
        },
        "id": "QEv8L5BFsvnk",
        "outputId": "d98dfdf9-5800-43f2-889b-ebc02d8a4a66"
      },
      "execution_count": null,
      "outputs": [
        {
          "output_type": "stream",
          "name": "stdout",
          "text": [
            "KNN Classifier\n",
            "Evaluation\n",
            "Bigram with tfidf Accuracy\n",
            "0.6905707714823333\n",
            "              precision    recall  f1-score   support\n",
            "\n",
            "           0       0.69      0.88      0.78      2939\n",
            "           1       0.68      0.38      0.49      1844\n",
            "\n",
            "    accuracy                           0.69      4783\n",
            "   macro avg       0.68      0.63      0.63      4783\n",
            "weighted avg       0.69      0.69      0.67      4783\n",
            "\n"
          ]
        }
      ]
    },
    {
      "cell_type": "markdown",
      "source": [
        "KNN (TRIGRAM)"
      ],
      "metadata": {
        "id": "OoyyWt2ss0lQ"
      }
    },
    {
      "cell_type": "code",
      "source": [
        "def experiment4(X,y): # Different feature sets with KNN\n",
        "    X_train,X_test,y_train,y_test=train_test_split(X,y,test_size=0.3)\n",
        "    knn=Pipeline([('vect',CountVectorizer(ngram_range=(1,3))),('knn',KNeighborsClassifier())])\n",
        "    knn=knn.fit(X_train,y_train)\n",
        "    ypredknn=knn.predict(X_test)\n",
        "    print(\"Trigram counts Accuracy\")\n",
        "    print(metrics.accuracy_score(y_test,ypredknn))\n",
        "    print(metrics.classification_report(y_test,ypredknn))\n",
        "def main():\n",
        "    print(\"KNN Classifier\")\n",
        "    X,y=readcsv()\n",
        "    print(\"Evaluation\")\n",
        "    experiment4(X,y)#calling KNN Classifier\n",
        "    \n",
        "if __name__==\"__main__\":\n",
        "    main()\n"
      ],
      "metadata": {
        "colab": {
          "base_uri": "https://localhost:8080/"
        },
        "id": "RWMvFhmws3_i",
        "outputId": "290d52e9-5eb9-41f1-8fa5-d258350dd868"
      },
      "execution_count": null,
      "outputs": [
        {
          "output_type": "stream",
          "name": "stdout",
          "text": [
            "KNN Classifier\n",
            "Evaluation\n",
            "Trigram counts Accuracy\n",
            "0.6723813506167677\n",
            "              precision    recall  f1-score   support\n",
            "\n",
            "           0       0.76      0.68      0.72      2912\n",
            "           1       0.57      0.66      0.61      1871\n",
            "\n",
            "    accuracy                           0.67      4783\n",
            "   macro avg       0.66      0.67      0.66      4783\n",
            "weighted avg       0.68      0.67      0.68      4783\n",
            "\n"
          ]
        }
      ]
    },
    {
      "cell_type": "markdown",
      "source": [
        "KNN (TRIGRAM WITH TF-IDF)"
      ],
      "metadata": {
        "id": "-Ptv8K0qs7Z0"
      }
    },
    {
      "cell_type": "code",
      "source": [
        "def experiment4(X,y): # Different feature sets with KNN\n",
        "    X_train,X_test,y_train,y_test=train_test_split(X,y,test_size=0.3)\n",
        "    knn=Pipeline([('vect',CountVectorizer(ngram_range=(1,3))),('tfidf',TfidfTransformer()),('knn',KNeighborsClassifier())])\n",
        "    knn=knn.fit(X_train,y_train)\n",
        "    ypredknn=knn.predict(X_test)\n",
        "    print(\"Trigram with tfidf Accuracy\")\n",
        "    print(metrics.accuracy_score(y_test,ypredknn))\n",
        "    print(metrics.classification_report(y_test,ypredknn))\n",
        "def main():\n",
        "    print(\"KNN Classifier\")\n",
        "    X,y=readcsv()\n",
        "    print(\"Evalutaion\")\n",
        "    experiment4(X,y)#calling KNN Classifier\n",
        "    \n",
        "if __name__==\"__main__\":\n",
        "    main()"
      ],
      "metadata": {
        "colab": {
          "base_uri": "https://localhost:8080/"
        },
        "id": "_3FGm3FFs_lH",
        "outputId": "5b31f529-ec10-4045-dffd-c7c5b97fa854"
      },
      "execution_count": null,
      "outputs": [
        {
          "output_type": "stream",
          "name": "stdout",
          "text": [
            "KNN Classifier\n",
            "Evalutaion\n",
            "Trigram with tfidf Accuracy\n",
            "0.7006063140288522\n",
            "              precision    recall  f1-score   support\n",
            "\n",
            "           0       0.72      0.82      0.77      2922\n",
            "           1       0.65      0.51      0.57      1861\n",
            "\n",
            "    accuracy                           0.70      4783\n",
            "   macro avg       0.69      0.67      0.67      4783\n",
            "weighted avg       0.69      0.70      0.69      4783\n",
            "\n"
          ]
        }
      ]
    }
  ]
}